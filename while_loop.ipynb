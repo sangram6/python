{
  "nbformat": 4,
  "nbformat_minor": 0,
  "metadata": {
    "colab": {
      "provenance": [],
      "authorship_tag": "ABX9TyP+Ot/1qHfaf1W24a2IOLOq",
      "include_colab_link": true
    },
    "kernelspec": {
      "name": "python3",
      "display_name": "Python 3"
    },
    "language_info": {
      "name": "python"
    }
  },
  "cells": [
    {
      "cell_type": "markdown",
      "metadata": {
        "id": "view-in-github",
        "colab_type": "text"
      },
      "source": [
        "<a href=\"https://colab.research.google.com/github/sangram6/python/blob/main/while_loop.ipynb\" target=\"_parent\"><img src=\"https://colab.research.google.com/assets/colab-badge.svg\" alt=\"Open In Colab\"/></a>"
      ]
    },
    {
      "cell_type": "code",
      "execution_count": 1,
      "metadata": {
        "colab": {
          "base_uri": "https://localhost:8080/"
        },
        "id": "OvofXlOEqgYV",
        "outputId": "a87143f8-c5e7-48a1-a0ba-4d42da05db52"
      },
      "outputs": [
        {
          "output_type": "stream",
          "name": "stdout",
          "text": [
            "enter a number5\n",
            "0\n",
            "1\n",
            "2\n",
            "3\n",
            "4\n",
            "5\n"
          ]
        }
      ],
      "source": [
        "n=int(input(\"enter a number\"))\n",
        "i=0\n",
        "while(i<=n):\n",
        "  print(i)\n",
        "  i=i+1"
      ]
    },
    {
      "cell_type": "code",
      "source": [
        "n=int(input(\"enter a number\"))\n",
        "i=8\n",
        "while(i<=n):\n",
        "  print(i)\n",
        "  i=i+1\n",
        "  if(i==10):\n",
        "    break\n"
      ],
      "metadata": {
        "colab": {
          "base_uri": "https://localhost:8080/"
        },
        "id": "gMVUKhw1rp2g",
        "outputId": "a09e9b5b-9345-451d-f135-5453f6f5480c"
      },
      "execution_count": 5,
      "outputs": [
        {
          "output_type": "stream",
          "name": "stdout",
          "text": [
            "enter a number11\n",
            "8\n",
            "9\n"
          ]
        }
      ]
    },
    {
      "cell_type": "code",
      "source": [
        "n=int(input(\"enter a number\"))\n",
        "i=8\n",
        "while(i<=n):\n",
        "  print(i)\n",
        "  i=i+1\n",
        "  if(i==10):\n",
        "    continue\n",
        "    print(i)\n"
      ],
      "metadata": {
        "colab": {
          "base_uri": "https://localhost:8080/"
        },
        "id": "7a94tWfftLkf",
        "outputId": "2f94189a-201f-4a3a-9ced-8126899db7dd"
      },
      "execution_count": 7,
      "outputs": [
        {
          "output_type": "stream",
          "name": "stdout",
          "text": [
            "enter a number15\n",
            "8\n",
            "9\n",
            "10\n",
            "11\n",
            "12\n",
            "13\n",
            "14\n",
            "15\n"
          ]
        }
      ]
    },
    {
      "cell_type": "code",
      "source": [
        "for i in range(10):\n",
        "  print(\"5 x\",i+1,\" =\",5*(i+1))"
      ],
      "metadata": {
        "colab": {
          "base_uri": "https://localhost:8080/"
        },
        "id": "WkJ66rE_uKzX",
        "outputId": "c622cdc2-7143-4e30-d708-229a27a28dad"
      },
      "execution_count": 11,
      "outputs": [
        {
          "output_type": "stream",
          "name": "stdout",
          "text": [
            "5 x 1  = 5\n",
            "5 x 2  = 10\n",
            "5 x 3  = 15\n",
            "5 x 4  = 20\n",
            "5 x 5  = 25\n",
            "5 x 6  = 30\n",
            "5 x 7  = 35\n",
            "5 x 8  = 40\n",
            "5 x 9  = 45\n",
            "5 x 10  = 50\n"
          ]
        }
      ]
    },
    {
      "cell_type": "code",
      "source": [
        "\n",
        "for i in range(10):\n",
        "  if(i==7):\n",
        "    break\n",
        "  print(\"5 x\",i+1,\" =\",5*(i+1))\n",
        "print(\"exits the loop\")"
      ],
      "metadata": {
        "colab": {
          "base_uri": "https://localhost:8080/"
        },
        "id": "tOwGG15WuzLJ",
        "outputId": "bd84a20f-35dd-454d-8e0b-7dceca46fc89"
      },
      "execution_count": 22,
      "outputs": [
        {
          "output_type": "stream",
          "name": "stdout",
          "text": [
            "5 x 1  = 5\n",
            "5 x 2  = 10\n",
            "5 x 3  = 15\n",
            "5 x 4  = 20\n",
            "5 x 5  = 25\n",
            "5 x 6  = 30\n",
            "5 x 7  = 35\n",
            "exits the loop\n"
          ]
        }
      ]
    },
    {
      "cell_type": "code",
      "source": [
        "n=int(input(\"enter a number\"))\n",
        "for i in range(n):\n",
        "  if(i==7):\n",
        "     continue\n",
        "  print(\"5 x\",i+1,\" =\",5*(i+1))\n",
        ""
      ],
      "metadata": {
        "colab": {
          "base_uri": "https://localhost:8080/"
        },
        "id": "v9TJObQnwWki",
        "outputId": "d696b2b3-51b6-4cfa-ba12-5aff0b773871"
      },
      "execution_count": 32,
      "outputs": [
        {
          "output_type": "stream",
          "name": "stdout",
          "text": [
            "enter a number12\n",
            "5 x 1  = 5\n",
            "5 x 2  = 10\n",
            "5 x 3  = 15\n",
            "5 x 4  = 20\n",
            "5 x 5  = 25\n",
            "5 x 6  = 30\n",
            "5 x 7  = 35\n",
            "5 x 9  = 45\n",
            "5 x 10  = 50\n",
            "5 x 11  = 55\n",
            "5 x 12  = 60\n"
          ]
        }
      ]
    }
  ]
}