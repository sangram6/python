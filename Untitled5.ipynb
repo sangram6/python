{
  "nbformat": 4,
  "nbformat_minor": 0,
  "metadata": {
    "colab": {
      "provenance": [],
      "authorship_tag": "ABX9TyPW+JG57AJ84h/1MVzNAU5z",
      "include_colab_link": true
    },
    "kernelspec": {
      "name": "python3",
      "display_name": "Python 3"
    },
    "language_info": {
      "name": "python"
    }
  },
  "cells": [
    {
      "cell_type": "markdown",
      "metadata": {
        "id": "view-in-github",
        "colab_type": "text"
      },
      "source": [
        "<a href=\"https://colab.research.google.com/github/sangram6/python/blob/main/Untitled5.ipynb\" target=\"_parent\"><img src=\"https://colab.research.google.com/assets/colab-badge.svg\" alt=\"Open In Colab\"/></a>"
      ]
    },
    {
      "cell_type": "code",
      "execution_count": 3,
      "metadata": {
        "colab": {
          "base_uri": "https://localhost:8080/"
        },
        "id": "Ua86pHCwHY7U",
        "outputId": "e0c497f0-d6dc-47b3-945b-7164c607a5a6"
      },
      "outputs": [
        {
          "output_type": "stream",
          "name": "stdout",
          "text": [
            "s\n",
            "a\n",
            "n\n",
            "g\n",
            "r\n",
            "a\n",
            "m\n"
          ]
        }
      ],
      "source": [
        "name=\"sangram\"\n",
        "for i in name:\n",
        "    print(i)"
      ]
    },
    {
      "cell_type": "code",
      "source": [
        "name=\"sangram keshari pradhan\"\n",
        "for i in name:\n",
        "  print(i)"
      ],
      "metadata": {
        "colab": {
          "base_uri": "https://localhost:8080/"
        },
        "id": "A5tJCS6uIo7i",
        "outputId": "1a4ea092-1aad-447a-a7d8-294901e9be85"
      },
      "execution_count": 4,
      "outputs": [
        {
          "output_type": "stream",
          "name": "stdout",
          "text": [
            "s\n",
            "a\n",
            "n\n",
            "g\n",
            "r\n",
            "a\n",
            "m\n",
            " \n",
            "k\n",
            "e\n",
            "s\n",
            "h\n",
            "a\n",
            "r\n",
            "i\n",
            " \n",
            "p\n",
            "r\n",
            "a\n",
            "d\n",
            "h\n",
            "a\n",
            "n\n"
          ]
        }
      ]
    },
    {
      "cell_type": "code",
      "source": [],
      "metadata": {
        "id": "E796XXnzI5sa"
      },
      "execution_count": null,
      "outputs": []
    },
    {
      "cell_type": "code",
      "source": [
        "name=\"akash\"\n",
        "for i in name:\n",
        "  print(i)\n",
        "  if(i==\"k\"):\n",
        "    print(\"this is special\")"
      ],
      "metadata": {
        "colab": {
          "base_uri": "https://localhost:8080/"
        },
        "id": "kHkyxM-iJIBG",
        "outputId": "49d40b45-04dc-4f4e-b10d-e9f01a2450f9"
      },
      "execution_count": 5,
      "outputs": [
        {
          "output_type": "stream",
          "name": "stdout",
          "text": [
            "a\n",
            "k\n",
            "this is special\n",
            "a\n",
            "s\n",
            "h\n"
          ]
        }
      ]
    },
    {
      "cell_type": "code",
      "source": [
        "for k in range(5):\n",
        "  print(k+1)"
      ],
      "metadata": {
        "colab": {
          "base_uri": "https://localhost:8080/"
        },
        "id": "j_zj6m56KYf0",
        "outputId": "4aab5090-9e3f-47c4-eff7-d401cb7c3bca"
      },
      "execution_count": 6,
      "outputs": [
        {
          "output_type": "stream",
          "name": "stdout",
          "text": [
            "1\n",
            "2\n",
            "3\n",
            "4\n",
            "5\n"
          ]
        }
      ]
    },
    {
      "cell_type": "code",
      "source": [
        "for k in range(50,80):\n",
        "  print(k)"
      ],
      "metadata": {
        "colab": {
          "base_uri": "https://localhost:8080/"
        },
        "id": "tZmkByPxMSJt",
        "outputId": "3d8d8bb3-6e99-4323-fb8c-b8012f910145"
      },
      "execution_count": 9,
      "outputs": [
        {
          "output_type": "stream",
          "name": "stdout",
          "text": [
            "50\n",
            "51\n",
            "52\n",
            "53\n",
            "54\n",
            "55\n",
            "56\n",
            "57\n",
            "58\n",
            "59\n",
            "60\n",
            "61\n",
            "62\n",
            "63\n",
            "64\n",
            "65\n",
            "66\n",
            "67\n",
            "68\n",
            "69\n",
            "70\n",
            "71\n",
            "72\n",
            "73\n",
            "74\n",
            "75\n",
            "76\n",
            "77\n",
            "78\n",
            "79\n"
          ]
        }
      ]
    },
    {
      "cell_type": "code",
      "source": [
        "for k in range(1,12,3):\n",
        "  print(k)"
      ],
      "metadata": {
        "colab": {
          "base_uri": "https://localhost:8080/"
        },
        "id": "-YDbvQfbMuu6",
        "outputId": "e79938a6-68e3-4667-a519-7468b5a25a96"
      },
      "execution_count": 11,
      "outputs": [
        {
          "output_type": "stream",
          "name": "stdout",
          "text": [
            "1\n",
            "4\n",
            "7\n",
            "10\n"
          ]
        }
      ]
    },
    {
      "cell_type": "code",
      "source": [
        "for k in range(4,20,4):\n",
        "  print(k)"
      ],
      "metadata": {
        "colab": {
          "base_uri": "https://localhost:8080/"
        },
        "id": "ziJ5t0dhNzff",
        "outputId": "164f1bf6-fee0-49ba-ea17-b3d0a24a355d"
      },
      "execution_count": 13,
      "outputs": [
        {
          "output_type": "stream",
          "name": "stdout",
          "text": [
            "4\n",
            "8\n",
            "12\n",
            "16\n"
          ]
        }
      ]
    },
    {
      "cell_type": "code",
      "source": [
        "for k in range(4,40,10):\n",
        "   print(k)"
      ],
      "metadata": {
        "colab": {
          "base_uri": "https://localhost:8080/"
        },
        "id": "omtBiznKOH5A",
        "outputId": "440796b0-c9e2-4c07-c8d8-fbd21146c1be"
      },
      "execution_count": 21,
      "outputs": [
        {
          "output_type": "stream",
          "name": "stdout",
          "text": [
            "4\n",
            "14\n",
            "24\n",
            "34\n"
          ]
        }
      ]
    },
    {
      "cell_type": "code",
      "source": [
        "for i in range(1, 11):\n",
        "    square = i ** 2\n",
        "    print(\"Square of\", i, \"is\", square)\n"
      ],
      "metadata": {
        "colab": {
          "base_uri": "https://localhost:8080/"
        },
        "id": "dLiMYtIaPmDX",
        "outputId": "73d8e504-4e54-4dab-ee4a-6fa58bebbd0b"
      },
      "execution_count": 22,
      "outputs": [
        {
          "output_type": "stream",
          "name": "stdout",
          "text": [
            "Square of 1 is 1\n",
            "Square of 2 is 4\n",
            "Square of 3 is 9\n",
            "Square of 4 is 16\n",
            "Square of 5 is 25\n",
            "Square of 6 is 36\n",
            "Square of 7 is 49\n",
            "Square of 8 is 64\n",
            "Square of 9 is 81\n",
            "Square of 10 is 100\n"
          ]
        }
      ]
    },
    {
      "cell_type": "code",
      "source": [
        "total = 0\n",
        "for i in range(1, 101):\n",
        "    total =total + i\n",
        "print(\"The sum of numbers from 1 to 100 is:\", total)\n"
      ],
      "metadata": {
        "colab": {
          "base_uri": "https://localhost:8080/"
        },
        "id": "2ZvliJAxPv1l",
        "outputId": "203717ca-9766-4da9-ae26-810cd05d05bc"
      },
      "execution_count": 23,
      "outputs": [
        {
          "output_type": "stream",
          "name": "stdout",
          "text": [
            "The sum of numbers from 1 to 100 is: 5050\n"
          ]
        }
      ]
    },
    {
      "cell_type": "code",
      "source": [
        "num = int(input(\"Enter a number: \"))\n",
        "factorial = 1\n",
        "\n",
        "for i in range(1, num + 1):\n",
        "    factorial *= i\n",
        "\n",
        "print(\"The factorial of\", num, \"is\", factorial)\n"
      ],
      "metadata": {
        "colab": {
          "base_uri": "https://localhost:8080/"
        },
        "id": "SXq_AgZJQJfb",
        "outputId": "055b38b9-486c-49e8-dfb1-6ce54d8bf060"
      },
      "execution_count": 25,
      "outputs": [
        {
          "output_type": "stream",
          "name": "stdout",
          "text": [
            "Enter a number: 3\n",
            "The factorial of 3 is 6\n"
          ]
        }
      ]
    }
  ]
}