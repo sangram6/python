{
  "nbformat": 4,
  "nbformat_minor": 0,
  "metadata": {
    "colab": {
      "provenance": [],
      "authorship_tag": "ABX9TyMHSB+DQ8rKbC+fxa8DegDu",
      "include_colab_link": true
    },
    "kernelspec": {
      "name": "python3",
      "display_name": "Python 3"
    },
    "language_info": {
      "name": "python"
    }
  },
  "cells": [
    {
      "cell_type": "markdown",
      "metadata": {
        "id": "view-in-github",
        "colab_type": "text"
      },
      "source": [
        "<a href=\"https://colab.research.google.com/github/sangram6/python/blob/main/function.ipynb\" target=\"_parent\"><img src=\"https://colab.research.google.com/assets/colab-badge.svg\" alt=\"Open In Colab\"/></a>"
      ]
    },
    {
      "cell_type": "code",
      "execution_count": 5,
      "metadata": {
        "colab": {
          "base_uri": "https://localhost:8080/"
        },
        "id": "kMj0Dw9HeuXq",
        "outputId": "6018a8d9-6da1-4c65-8dcb-205aa9678de6"
      },
      "outputs": [
        {
          "output_type": "stream",
          "name": "stdout",
          "text": [
            "enter 1st number7\n",
            "enter 2nd number8\n",
            "3.7333333333333334\n"
          ]
        }
      ],
      "source": [
        "\n",
        "def calculateGmean(a,b):\n",
        "  mean=(a*b)/(a+b)\n",
        "  return mean\n",
        "a=int(input(\"enter 1st number\"))\n",
        "b=int(input(\"enter 2nd number\"))\n",
        "result=calculateGmean(a,b)\n",
        "print(result)"
      ]
    },
    {
      "cell_type": "code",
      "source": [],
      "metadata": {
        "id": "4G_7LFj7nfzL"
      },
      "execution_count": null,
      "outputs": []
    },
    {
      "cell_type": "code",
      "source": [
        "def isgreater(a,b):\n",
        "  if(a<b):\n",
        "    print(\"first number is smaller\")\n",
        "  else:\n",
        "    print(\"second number is smaller\")\n",
        "a = int(input(\"Enter 1st number \"))\n",
        "b = int(input(\"Enter 2nd number \"))\n",
        "result=isgreater(a,b)\n",
        "print(result)"
      ],
      "metadata": {
        "colab": {
          "base_uri": "https://localhost:8080/"
        },
        "id": "zuvug2jfidw6",
        "outputId": "185186b2-c651-4935-a3b0-11cd9418d5fc"
      },
      "execution_count": 13,
      "outputs": [
        {
          "output_type": "stream",
          "name": "stdout",
          "text": [
            "Enter 1st number 23\n",
            "Enter 2nd number 4\n",
            "second number is smaller\n",
            "None\n"
          ]
        }
      ]
    }
  ]
}