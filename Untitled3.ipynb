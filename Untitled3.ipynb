{
  "nbformat": 4,
  "nbformat_minor": 0,
  "metadata": {
    "colab": {
      "provenance": [],
      "authorship_tag": "ABX9TyMQlwYkFyHs3AQoLVPYi1ec",
      "include_colab_link": true
    },
    "kernelspec": {
      "name": "python3",
      "display_name": "Python 3"
    },
    "language_info": {
      "name": "python"
    }
  },
  "cells": [
    {
      "cell_type": "markdown",
      "metadata": {
        "id": "view-in-github",
        "colab_type": "text"
      },
      "source": [
        "<a href=\"https://colab.research.google.com/github/sangram6/python/blob/main/Untitled3.ipynb\" target=\"_parent\"><img src=\"https://colab.research.google.com/assets/colab-badge.svg\" alt=\"Open In Colab\"/></a>"
      ]
    },
    {
      "cell_type": "code",
      "source": [
        "a=int(input(\"enter a number\"))\n",
        "if(a<0):\n",
        "  print(\"number is negative\")\n",
        "elif(a>0):\n",
        "  if(a<=10):\n",
        "    print(\"between 10\")\n",
        "  elif(a>10 and a<=20):\n",
        "    print(\"between 11-20\")\n",
        "  else:\n",
        "    print(\"number is grater than 20\")\n",
        "else:\n",
        "  print(\"the number is zero\")\n",
        "\n",
        "\n"
      ],
      "metadata": {
        "outputId": "b9e5fbdb-d759-482a-b184-5b6f9a3c75e2",
        "colab": {
          "base_uri": "https://localhost:8080/"
        },
        "id": "nCi1TdkfKnk5"
      },
      "execution_count": 20,
      "outputs": [
        {
          "output_type": "stream",
          "name": "stdout",
          "text": [
            "enter a number-4\n",
            "number is negative\n"
          ]
        }
      ]
    },
    {
      "cell_type": "code",
      "source": [
        "a=int(input(\"enter a number\"))\n",
        "if(a==1):\n",
        "  print(\"sunday\")\n",
        "elif(a==2):\n",
        "  print(\"monday\")\n",
        "elif(a==3):\n",
        "  print(\"tuesday\")\n",
        "elif(a==4):\n",
        "  print(\"wednesday\")\n",
        "elif(a==5):\n",
        "  print(\"thursday\")\n",
        "elif(a==6):\n",
        "  print(\"friday\")\n",
        "elif(a==7):\n",
        "  print(\"saturady\")\n",
        "else:\n",
        "  print(\"enter wrong number\")"
      ],
      "metadata": {
        "id": "jUmp23RiLaeo",
        "outputId": "dd6def03-4201-4c82-f4ac-d80881a30b99",
        "colab": {
          "base_uri": "https://localhost:8080/"
        }
      },
      "execution_count": 22,
      "outputs": [
        {
          "output_type": "stream",
          "name": "stdout",
          "text": [
            "enter a number9\n",
            "enter wrong number\n"
          ]
        }
      ]
    },
    {
      "cell_type": "code",
      "source": [
        "a=int(input(\"enter a number\"))\n",
        "if(a>0):\n",
        "  print(\"positive numrber\")\n",
        "elif(a==-50):\n",
        "  print(\"the number is\",a)\n",
        "else:\n",
        "  print(\"negative number\")"
      ],
      "metadata": {
        "colab": {
          "base_uri": "https://localhost:8080/"
        },
        "outputId": "b10c8bd0-1153-4ce6-b2e7-73a71f7e8c0f",
        "id": "O0KnGp0gIQaX"
      },
      "execution_count": 9,
      "outputs": [
        {
          "output_type": "stream",
          "name": "stdout",
          "text": [
            "enter a number-50\n",
            "the number is -50\n"
          ]
        }
      ]
    },
    {
      "cell_type": "code",
      "source": [
        "a=int(input(\"enter a number\"))\n",
        "if(a>0):\n",
        "  print(\"positive numrber\")\n",
        "elif(a==0):\n",
        "  print(\"the number is zero\")\n",
        "else:\n",
        "  print(\"negative number\")"
      ],
      "metadata": {
        "colab": {
          "base_uri": "https://localhost:8080/"
        },
        "outputId": "55992ad8-66ce-473c-89c6-72213cda27c0",
        "id": "RfJNL7JPIlqp"
      },
      "execution_count": 10,
      "outputs": [
        {
          "output_type": "stream",
          "name": "stdout",
          "text": [
            "enter a number-53\n",
            "negative number\n"
          ]
        }
      ]
    },
    {
      "cell_type": "code",
      "source": [
        "a=int(input(\"enter a number\"))\n",
        "if(a<0):\n",
        "  print(\"number is negative\")\n",
        "elif(a>0):\n",
        "  if(a<=10):\n",
        "    print(\"between 10\")\n",
        "  elif(a>10 and a<=20):\n",
        "    print(\"between 11-20\")\n",
        "else:\n",
        "  print(\"the number is zero\")\n",
        "\n",
        "\n"
      ],
      "metadata": {
        "colab": {
          "base_uri": "https://localhost:8080/"
        },
        "id": "TLAapuWAIuFB",
        "outputId": "a946e0a6-2343-4b47-ca83-9e497bb2ca6e"
      },
      "execution_count": 14,
      "outputs": [
        {
          "output_type": "stream",
          "name": "stdout",
          "text": [
            "enter a number5\n",
            "between 10\n"
          ]
        }
      ]
    },
    {
      "cell_type": "code",
      "execution_count": null,
      "metadata": {
        "colab": {
          "base_uri": "https://localhost:8080/"
        },
        "outputId": "e19c970e-95e4-4b11-fb22-683178925405",
        "id": "IoX48jkozJgZ"
      },
      "outputs": [
        {
          "output_type": "stream",
          "name": "stdout",
          "text": [
            "enter a number12\n",
            "your age is: 12\n",
            "you can't drive\n"
          ]
        }
      ],
      "source": [
        "a=int(input(\"enter a number\"))\n",
        "print(\"your age is:\", a)\n",
        "if(a>18):\n",
        "  print(\"you can drive\")\n",
        "else:\n",
        "  print(\"you can't drive\")"
      ]
    },
    {
      "cell_type": "code",
      "execution_count": 6,
      "metadata": {
        "colab": {
          "base_uri": "https://localhost:8080/"
        },
        "id": "KHjDEenEv7mK",
        "outputId": "0c77ff2e-3fb8-462c-e66f-9cca87509e5a"
      },
      "outputs": [
        {
          "output_type": "stream",
          "name": "stdout",
          "text": [
            "enter a number47\n",
            "your age is: 47\n",
            "you can drive\n"
          ]
        }
      ],
      "source": [
        "a=int(input(\"enter a number\"))\n",
        "print(\"your age is:\", a)\n",
        "if(a>18):\n",
        "  print(\"you can drive\")\n",
        "else:\n",
        "  print(\"you can't drive\")"
      ]
    },
    {
      "cell_type": "code",
      "source": [
        "a=int(input(\"enter a number\"))\n",
        "if(a>0):\n",
        "  print(\"positive numrber\")\n",
        "elif(a==0):\n",
        "  print(\"the number is zero\")\n",
        "else:\n",
        "  print(\"negative number\")"
      ],
      "metadata": {
        "colab": {
          "base_uri": "https://localhost:8080/"
        },
        "id": "fX5SyaaqFOyy",
        "outputId": "715e627a-0c2c-4859-888a-16ee9c7cc9d5"
      },
      "execution_count": 6,
      "outputs": [
        {
          "output_type": "stream",
          "name": "stdout",
          "text": [
            "enter a number56\n",
            "positivr numrber\n"
          ]
        }
      ]
    }
  ]
}